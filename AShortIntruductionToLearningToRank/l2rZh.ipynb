{
 "cells": [
  {
   "cell_type": "markdown",
   "metadata": {},
   "source": [
    "# 排序学习简介"
   ]
  },
  {
   "cell_type": "markdown",
   "metadata": {},
   "source": [
    "**概要**：Learning to rank refers to machine learning techniques for training the model in a ranking task.  \n",
    "**关键词**：key words: Learning to rank, information retrieval, natural language processing, SVM\n",
    "\n",
    "## 1. 排序问题\n",
    "![Fig.1](https://github.com/cxcx/Paper/blob/master/AShortIntruductionToLearningToRank/fig1.png?raw=true)  \n",
    "将信息检索作为一个排序学习应用的例子，如图Fig.1. 系统管理一个文档集合，通过给定的查询语句，系统从文档集中检索出包含查询语句中单词的文档，并返回排序靠前的文档。排序任务使用一个排序模型$f(q,d)$来排序文档，$q$表示一个查询语句$d$表示一片文档。  \n",
    "传统排序模型不需要训练，例如BM25模型、IR(LMIR)模型等。由于他们使用概率模型，通过query和文档就可以计算出分值，不需要机器学习。但是在web search领域，重点文字、PageRank分数等很多因素都能代表query和document的相关性，自然而然机器学习就是一个很好的选择。\n",
    "\n",
    "### 1.1 测试与训练\n",
    "排序学习是一个有监督学习任务。如图Fig.2所示：\n",
    "![Fig.2](https://github.com/cxcx/Paper/blob/master/AShortIntruductionToLearningToRank/fig2.png?raw=true)\n",
    "训练集由query语句和对应的文档组成，给出query语句和文档间的相关性作为标签，相关性由分数表示。文档和query之间越相关，分数越高。  \n",
    "特征向量 $x_{i,j} = \\phi(q_i,d_{i,j})$由每个query-doc生成。我们希望能够训练一个能够根据query-doc对得出相关性得分的$f(q,d)$模型，或者等价的得出特征向量$x$。\n",
    "\n",
    "### 1.2 数据标注\n",
    "目前有两种方式创建训练数据：1.人工对搜索结果排序，生成训练结果；2.从搜索点击日志中产生排序结果。\n",
    "\n",
    "### 1.3 评估\n",
    "在IR领域主要是由NDCG、DCG、MAP作为评估方法。\n",
    "\n",
    "### 1.4 与传统回归分类任务的联系\n",
    "传统回归分类任务中，机器学习的目标是训练出一个能够根据给定的特征向量$x$计算出该特征对应的标签或分数值$y$。在排序中，我们关注的不是特征经过模型计算后的分值，而是其在目标中的顺序。举个例子，在文档排序中，同样的文档在训练集和数据集中对应的标注分值可能不同，因为在不同的文档集中，其相关度排序后不一定一样。"
   ]
  }
 ],
 "metadata": {
  "kernelspec": {
   "display_name": "Python 3",
   "language": "python",
   "name": "python3"
  },
  "language_info": {
   "codemirror_mode": {
    "name": "ipython",
    "version": 3
   },
   "file_extension": ".py",
   "mimetype": "text/x-python",
   "name": "python",
   "nbconvert_exporter": "python",
   "pygments_lexer": "ipython3",
   "version": "3.6.9"
  }
 },
 "nbformat": 4,
 "nbformat_minor": 2
}
